{
 "cells": [
  {
   "cell_type": "code",
   "execution_count": 10,
   "id": "867082f4",
   "metadata": {},
   "outputs": [
    {
     "name": "stdout",
     "output_type": "stream",
     "text": [
      "{'NAME': 'vimal', 'DOB': '10121999', 'HEIGHT': '171CM', 'CITY': 'BENGALURU', 'STATE': 'KERALA'}\n",
      "{'NAME': 'Amal', 'DOB': '10101999', 'HEIGHT': '170CM', 'CITY': 'BENGALURU', 'STATE': 'KERALA'}\n",
      "{'NAME': 'abhinav', 'DOB': '10051999', 'HEIGHT': '172CM', 'CITY': 'BENGALURU', 'STATE': 'KERALA'}\n",
      "{'NAME': 'reynold', 'DOB': '17121999', 'HEIGHT': '173CM', 'CITY': 'BENGALURU', 'STATE': 'KERALA'}\n",
      "{'NAME': 'amanta', 'DOB': '10121998', 'HEIGHT': '167CM', 'CITY': 'BENGALURU', 'STATE': 'KERALA'}\n"
     ]
    }
   ],
   "source": [
    "import json\n",
    "employee={\n",
    "    \"employee_det\":[\n",
    "    {'NAME':'vimal','DOB':\"10121999\",'HEIGHT':\"171CM\",'CITY':'BENGALURU','STATE':'KERALA'},\n",
    "        \n",
    "    {'NAME':'Amal','DOB':\"10101999\",'HEIGHT':\"170CM\",'CITY':'BENGALURU','STATE':'KERALA'},\n",
    "        \n",
    "    {'NAME':'abhinav','DOB':\"10051999\",'HEIGHT':\"172CM\",'CITY':'BENGALURU','STATE':'KERALA'},\n",
    "        \n",
    "    {'NAME':'reynold','DOB':\"17121999\",'HEIGHT':\"173CM\",'CITY':'BENGALURU','STATE':'KERALA'},\n",
    "        \n",
    "    {'NAME':'amanta','DOB':\"10121998\",'HEIGHT':\"167CM\",'CITY':'BENGALURU','STATE':'KERALA'}\n",
    "    ]\n",
    "}\n",
    "with open(\"EMPLOYEMENT_DATA.JSON\",\"w\") as f:\n",
    "    json.dump(employee,f,indent=4)\n",
    "    \n",
    "f=open(\"EMPLOYEMENT_DATA.JSON\",\"r\")\n",
    "data=json.loads(f.read())\n",
    "for i in data[\"employee_det\"]:\n",
    "    print(i)\n",
    "f.close()"
   ]
  }
 ],
 "metadata": {
  "kernelspec": {
   "display_name": "Python 3 (ipykernel)",
   "language": "python",
   "name": "python3"
  },
  "language_info": {
   "codemirror_mode": {
    "name": "ipython",
    "version": 3
   },
   "file_extension": ".py",
   "mimetype": "text/x-python",
   "name": "python",
   "nbconvert_exporter": "python",
   "pygments_lexer": "ipython3",
   "version": "3.9.13"
  }
 },
 "nbformat": 4,
 "nbformat_minor": 5
}
